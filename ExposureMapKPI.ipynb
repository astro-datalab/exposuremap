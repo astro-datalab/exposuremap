{
 "cells": [
  {
   "cell_type": "code",
   "execution_count": 1,
   "id": "46da5874-39f3-41b7-a1bb-c65708247d47",
   "metadata": {},
   "outputs": [],
   "source": [
    "import numpy as np\n",
    "import astropy.units as u\n",
    "import subprocess\n",
    "import healpy as hp\n",
    "from astropy.table import Table"
   ]
  },
  {
   "cell_type": "markdown",
   "id": "f1b4a67d-580a-4a35-825f-84604a2af3c4",
   "metadata": {},
   "source": [
    "### Create exposure map"
   ]
  },
  {
   "cell_type": "code",
   "execution_count": 2,
   "id": "02e051cc-ce51-42ee-aa62-5aea21dfba97",
   "metadata": {},
   "outputs": [
    {
     "name": "stdout",
     "output_type": "stream",
     "text": [
      "559733  DECam exposures\n",
      "183908  Mosaic exposures\n"
     ]
    },
    {
     "name": "stderr",
     "output_type": "stream",
     "text": [
      "Error encountered at /Users/runner/miniforge3/conda-bld/healpy_1697027108636/work/healpixsubmodule/src/cxx/Healpix_cxx/healpix_base.cc, line 1000\n",
      "(function void T_Healpix_Base<long long>::query_polygon_internal(const vector<pointing> &, int, rangeset<I2> &) const [I = long long, I2 = long long])\n",
      "\n",
      "degenerate corner\n",
      "\n"
     ]
    },
    {
     "name": "stdout",
     "output_type": "stream",
     "text": [
      "3570 Problem with Mosaic polygon\n"
     ]
    },
    {
     "name": "stderr",
     "output_type": "stream",
     "text": [
      "Error encountered at /Users/runner/miniforge3/conda-bld/healpy_1697027108636/work/healpixsubmodule/src/cxx/Healpix_cxx/healpix_base.cc, line 1000\n",
      "(function void T_Healpix_Base<long long>::query_polygon_internal(const vector<pointing> &, int, rangeset<I2> &) const [I = long long, I2 = long long])\n",
      "\n",
      "degenerate corner\n",
      "\n",
      "Error encountered at /Users/runner/miniforge3/conda-bld/healpy_1697027108636/work/healpixsubmodule/src/cxx/Healpix_cxx/healpix_base.cc, line 1000\n",
      "(function void T_Healpix_Base<long long>::query_polygon_internal(const vector<pointing> &, int, rangeset<I2> &) const [I = long long, I2 = long long])\n",
      "\n",
      "degenerate corner\n",
      "\n",
      "Error encountered at /Users/runner/miniforge3/conda-bld/healpy_1697027108636/work/healpixsubmodule/src/cxx/Healpix_cxx/healpix_base.cc, line 1000\n",
      "(function void T_Healpix_Base<long long>::query_polygon_internal(const vector<pointing> &, int, rangeset<I2> &) const [I = long long, I2 = long long])\n",
      "\n",
      "degenerate corner\n",
      "\n"
     ]
    },
    {
     "name": "stdout",
     "output_type": "stream",
     "text": [
      "4053 Problem with Mosaic polygon\n",
      "4133 Problem with Mosaic polygon\n",
      "4431 Problem with Mosaic polygon\n"
     ]
    },
    {
     "name": "stderr",
     "output_type": "stream",
     "text": [
      "Error encountered at /Users/runner/miniforge3/conda-bld/healpy_1697027108636/work/healpixsubmodule/src/cxx/Healpix_cxx/healpix_base.cc, line 1000\n",
      "(function void T_Healpix_Base<long long>::query_polygon_internal(const vector<pointing> &, int, rangeset<I2> &) const [I = long long, I2 = long long])\n",
      "\n",
      "degenerate corner\n",
      "\n"
     ]
    },
    {
     "name": "stdout",
     "output_type": "stream",
     "text": [
      "14244 Problem with Mosaic polygon\n"
     ]
    },
    {
     "name": "stderr",
     "output_type": "stream",
     "text": [
      "Error encountered at /Users/runner/miniforge3/conda-bld/healpy_1697027108636/work/healpixsubmodule/src/cxx/Healpix_cxx/healpix_base.cc, line 1000\n",
      "(function void T_Healpix_Base<long long>::query_polygon_internal(const vector<pointing> &, int, rangeset<I2> &) const [I = long long, I2 = long long])\n",
      "\n",
      "degenerate corner\n",
      "\n",
      "Error encountered at /Users/runner/miniforge3/conda-bld/healpy_1697027108636/work/healpixsubmodule/src/cxx/Healpix_cxx/healpix_base.cc, line 1000\n",
      "(function void T_Healpix_Base<long long>::query_polygon_internal(const vector<pointing> &, int, rangeset<I2> &) const [I = long long, I2 = long long])\n",
      "\n",
      "degenerate corner\n",
      "\n"
     ]
    },
    {
     "name": "stdout",
     "output_type": "stream",
     "text": [
      "45456 Problem with Mosaic polygon\n",
      "45534 Problem with Mosaic polygon\n"
     ]
    },
    {
     "name": "stderr",
     "output_type": "stream",
     "text": [
      "Error encountered at /Users/runner/miniforge3/conda-bld/healpy_1697027108636/work/healpixsubmodule/src/cxx/Healpix_cxx/healpix_base.cc, line 1000\n",
      "(function void T_Healpix_Base<long long>::query_polygon_internal(const vector<pointing> &, int, rangeset<I2> &) const [I = long long, I2 = long long])\n",
      "\n",
      "degenerate corner\n",
      "\n"
     ]
    },
    {
     "name": "stdout",
     "output_type": "stream",
     "text": [
      "46462 Problem with Mosaic polygon\n"
     ]
    },
    {
     "name": "stderr",
     "output_type": "stream",
     "text": [
      "Error encountered at /Users/runner/miniforge3/conda-bld/healpy_1697027108636/work/healpixsubmodule/src/cxx/Healpix_cxx/healpix_base.cc, line 1000\n",
      "(function void T_Healpix_Base<long long>::query_polygon_internal(const vector<pointing> &, int, rangeset<I2> &) const [I = long long, I2 = long long])\n",
      "\n",
      "degenerate corner\n",
      "\n"
     ]
    },
    {
     "name": "stdout",
     "output_type": "stream",
     "text": [
      "47163 Problem with Mosaic polygon\n"
     ]
    },
    {
     "name": "stderr",
     "output_type": "stream",
     "text": [
      "Error encountered at /Users/runner/miniforge3/conda-bld/healpy_1697027108636/work/healpixsubmodule/src/cxx/Healpix_cxx/healpix_base.cc, line 1000\n",
      "(function void T_Healpix_Base<long long>::query_polygon_internal(const vector<pointing> &, int, rangeset<I2> &) const [I = long long, I2 = long long])\n",
      "\n",
      "degenerate corner\n",
      "\n",
      "Error encountered at /Users/runner/miniforge3/conda-bld/healpy_1697027108636/work/healpixsubmodule/src/cxx/Healpix_cxx/healpix_base.cc, line 1000\n",
      "(function void T_Healpix_Base<long long>::query_polygon_internal(const vector<pointing> &, int, rangeset<I2> &) const [I = long long, I2 = long long])\n",
      "\n",
      "degenerate corner\n",
      "\n"
     ]
    },
    {
     "name": "stdout",
     "output_type": "stream",
     "text": [
      "48285 Problem with Mosaic polygon\n",
      "48394 Problem with Mosaic polygon\n"
     ]
    },
    {
     "name": "stderr",
     "output_type": "stream",
     "text": [
      "Error encountered at /Users/runner/miniforge3/conda-bld/healpy_1697027108636/work/healpixsubmodule/src/cxx/Healpix_cxx/healpix_base.cc, line 1000\n",
      "(function void T_Healpix_Base<long long>::query_polygon_internal(const vector<pointing> &, int, rangeset<I2> &) const [I = long long, I2 = long long])\n",
      "\n",
      "degenerate corner\n",
      "\n",
      "Error encountered at /Users/runner/miniforge3/conda-bld/healpy_1697027108636/work/healpixsubmodule/src/cxx/Healpix_cxx/healpix_base.cc, line 1000\n",
      "(function void T_Healpix_Base<long long>::query_polygon_internal(const vector<pointing> &, int, rangeset<I2> &) const [I = long long, I2 = long long])\n",
      "\n",
      "degenerate corner\n",
      "\n"
     ]
    },
    {
     "name": "stdout",
     "output_type": "stream",
     "text": [
      "50159 Problem with Mosaic polygon\n",
      "50472 Problem with Mosaic polygon\n"
     ]
    },
    {
     "name": "stderr",
     "output_type": "stream",
     "text": [
      "Error encountered at /Users/runner/miniforge3/conda-bld/healpy_1697027108636/work/healpixsubmodule/src/cxx/Healpix_cxx/healpix_base.cc, line 1000\n",
      "(function void T_Healpix_Base<long long>::query_polygon_internal(const vector<pointing> &, int, rangeset<I2> &) const [I = long long, I2 = long long])\n",
      "\n",
      "degenerate corner\n",
      "\n"
     ]
    },
    {
     "name": "stdout",
     "output_type": "stream",
     "text": [
      "51548 Problem with Mosaic polygon\n"
     ]
    },
    {
     "name": "stderr",
     "output_type": "stream",
     "text": [
      "Error encountered at /Users/runner/miniforge3/conda-bld/healpy_1697027108636/work/healpixsubmodule/src/cxx/Healpix_cxx/healpix_base.cc, line 1000\n",
      "(function void T_Healpix_Base<long long>::query_polygon_internal(const vector<pointing> &, int, rangeset<I2> &) const [I = long long, I2 = long long])\n",
      "\n",
      "degenerate corner\n",
      "\n",
      "Error encountered at /Users/runner/miniforge3/conda-bld/healpy_1697027108636/work/healpixsubmodule/src/cxx/Healpix_cxx/healpix_base.cc, line 1000\n",
      "(function void T_Healpix_Base<long long>::query_polygon_internal(const vector<pointing> &, int, rangeset<I2> &) const [I = long long, I2 = long long])\n",
      "\n",
      "degenerate corner\n",
      "\n"
     ]
    },
    {
     "name": "stdout",
     "output_type": "stream",
     "text": [
      "52422 Problem with Mosaic polygon\n",
      "52539 Problem with Mosaic polygon\n"
     ]
    },
    {
     "name": "stderr",
     "output_type": "stream",
     "text": [
      "Error encountered at /Users/runner/miniforge3/conda-bld/healpy_1697027108636/work/healpixsubmodule/src/cxx/Healpix_cxx/healpix_base.cc, line 1000\n",
      "(function void T_Healpix_Base<long long>::query_polygon_internal(const vector<pointing> &, int, rangeset<I2> &) const [I = long long, I2 = long long])\n",
      "\n",
      "degenerate corner\n",
      "\n"
     ]
    },
    {
     "name": "stdout",
     "output_type": "stream",
     "text": [
      "53660 Problem with Mosaic polygon\n"
     ]
    },
    {
     "name": "stderr",
     "output_type": "stream",
     "text": [
      "Error encountered at /Users/runner/miniforge3/conda-bld/healpy_1697027108636/work/healpixsubmodule/src/cxx/Healpix_cxx/healpix_base.cc, line 1000\n",
      "(function void T_Healpix_Base<long long>::query_polygon_internal(const vector<pointing> &, int, rangeset<I2> &) const [I = long long, I2 = long long])\n",
      "\n",
      "degenerate corner\n",
      "\n"
     ]
    },
    {
     "name": "stdout",
     "output_type": "stream",
     "text": [
      "54450 Problem with Mosaic polygon\n"
     ]
    },
    {
     "name": "stderr",
     "output_type": "stream",
     "text": [
      "Error encountered at /Users/runner/miniforge3/conda-bld/healpy_1697027108636/work/healpixsubmodule/src/cxx/Healpix_cxx/healpix_base.cc, line 1000\n",
      "(function void T_Healpix_Base<long long>::query_polygon_internal(const vector<pointing> &, int, rangeset<I2> &) const [I = long long, I2 = long long])\n",
      "\n",
      "degenerate corner\n",
      "\n",
      "Error encountered at /Users/runner/miniforge3/conda-bld/healpy_1697027108636/work/healpixsubmodule/src/cxx/Healpix_cxx/healpix_base.cc, line 1000\n",
      "(function void T_Healpix_Base<long long>::query_polygon_internal(const vector<pointing> &, int, rangeset<I2> &) const [I = long long, I2 = long long])\n",
      "\n",
      "degenerate corner\n",
      "\n"
     ]
    },
    {
     "name": "stdout",
     "output_type": "stream",
     "text": [
      "63895 Problem with Mosaic polygon\n",
      "63911 Problem with Mosaic polygon\n"
     ]
    },
    {
     "name": "stderr",
     "output_type": "stream",
     "text": [
      "Error encountered at /Users/runner/miniforge3/conda-bld/healpy_1697027108636/work/healpixsubmodule/src/cxx/Healpix_cxx/healpix_base.cc, line 1000\n",
      "(function void T_Healpix_Base<long long>::query_polygon_internal(const vector<pointing> &, int, rangeset<I2> &) const [I = long long, I2 = long long])\n",
      "\n",
      "degenerate corner\n",
      "\n"
     ]
    },
    {
     "name": "stdout",
     "output_type": "stream",
     "text": [
      "69101 Problem with Mosaic polygon\n"
     ]
    },
    {
     "name": "stderr",
     "output_type": "stream",
     "text": [
      "Error encountered at /Users/runner/miniforge3/conda-bld/healpy_1697027108636/work/healpixsubmodule/src/cxx/Healpix_cxx/healpix_base.cc, line 1000\n",
      "(function void T_Healpix_Base<long long>::query_polygon_internal(const vector<pointing> &, int, rangeset<I2> &) const [I = long long, I2 = long long])\n",
      "\n",
      "degenerate corner\n",
      "\n"
     ]
    },
    {
     "name": "stdout",
     "output_type": "stream",
     "text": [
      "69580 Problem with Mosaic polygon\n"
     ]
    },
    {
     "name": "stderr",
     "output_type": "stream",
     "text": [
      "Error encountered at /Users/runner/miniforge3/conda-bld/healpy_1697027108636/work/healpixsubmodule/src/cxx/Healpix_cxx/healpix_base.cc, line 1000\n",
      "(function void T_Healpix_Base<long long>::query_polygon_internal(const vector<pointing> &, int, rangeset<I2> &) const [I = long long, I2 = long long])\n",
      "\n",
      "degenerate corner\n",
      "\n"
     ]
    },
    {
     "name": "stdout",
     "output_type": "stream",
     "text": [
      "70107 Problem with Mosaic polygon\n"
     ]
    },
    {
     "name": "stderr",
     "output_type": "stream",
     "text": [
      "Error encountered at /Users/runner/miniforge3/conda-bld/healpy_1697027108636/work/healpixsubmodule/src/cxx/Healpix_cxx/healpix_base.cc, line 1000\n",
      "(function void T_Healpix_Base<long long>::query_polygon_internal(const vector<pointing> &, int, rangeset<I2> &) const [I = long long, I2 = long long])\n",
      "\n",
      "degenerate corner\n",
      "\n",
      "Error encountered at /Users/runner/miniforge3/conda-bld/healpy_1697027108636/work/healpixsubmodule/src/cxx/Healpix_cxx/healpix_base.cc, line 1000\n",
      "(function void T_Healpix_Base<long long>::query_polygon_internal(const vector<pointing> &, int, rangeset<I2> &) const [I = long long, I2 = long long])\n",
      "\n",
      "degenerate corner\n",
      "\n"
     ]
    },
    {
     "name": "stdout",
     "output_type": "stream",
     "text": [
      "70729 Problem with Mosaic polygon\n",
      "71036 Problem with Mosaic polygon\n"
     ]
    },
    {
     "name": "stderr",
     "output_type": "stream",
     "text": [
      "Error encountered at /Users/runner/miniforge3/conda-bld/healpy_1697027108636/work/healpixsubmodule/src/cxx/Healpix_cxx/healpix_base.cc, line 1000\n",
      "(function void T_Healpix_Base<long long>::query_polygon_internal(const vector<pointing> &, int, rangeset<I2> &) const [I = long long, I2 = long long])\n",
      "\n",
      "degenerate corner\n",
      "\n"
     ]
    },
    {
     "name": "stdout",
     "output_type": "stream",
     "text": [
      "73286 Problem with Mosaic polygon\n"
     ]
    },
    {
     "name": "stderr",
     "output_type": "stream",
     "text": [
      "Error encountered at /Users/runner/miniforge3/conda-bld/healpy_1697027108636/work/healpixsubmodule/src/cxx/Healpix_cxx/healpix_base.cc, line 1000\n",
      "(function void T_Healpix_Base<long long>::query_polygon_internal(const vector<pointing> &, int, rangeset<I2> &) const [I = long long, I2 = long long])\n",
      "\n",
      "degenerate corner\n",
      "\n"
     ]
    },
    {
     "name": "stdout",
     "output_type": "stream",
     "text": [
      "74017 Problem with Mosaic polygon\n"
     ]
    },
    {
     "name": "stderr",
     "output_type": "stream",
     "text": [
      "Error encountered at /Users/runner/miniforge3/conda-bld/healpy_1697027108636/work/healpixsubmodule/src/cxx/Healpix_cxx/healpix_base.cc, line 1000\n",
      "(function void T_Healpix_Base<long long>::query_polygon_internal(const vector<pointing> &, int, rangeset<I2> &) const [I = long long, I2 = long long])\n",
      "\n",
      "degenerate corner\n",
      "\n"
     ]
    },
    {
     "name": "stdout",
     "output_type": "stream",
     "text": [
      "76116 Problem with Mosaic polygon\n"
     ]
    },
    {
     "name": "stderr",
     "output_type": "stream",
     "text": [
      "Error encountered at /Users/runner/miniforge3/conda-bld/healpy_1697027108636/work/healpixsubmodule/src/cxx/Healpix_cxx/healpix_base.cc, line 1000\n",
      "(function void T_Healpix_Base<long long>::query_polygon_internal(const vector<pointing> &, int, rangeset<I2> &) const [I = long long, I2 = long long])\n",
      "\n",
      "degenerate corner\n",
      "\n"
     ]
    },
    {
     "name": "stdout",
     "output_type": "stream",
     "text": [
      "76760 Problem with Mosaic polygon\n"
     ]
    },
    {
     "name": "stderr",
     "output_type": "stream",
     "text": [
      "Error encountered at /Users/runner/miniforge3/conda-bld/healpy_1697027108636/work/healpixsubmodule/src/cxx/Healpix_cxx/healpix_base.cc, line 1000\n",
      "(function void T_Healpix_Base<long long>::query_polygon_internal(const vector<pointing> &, int, rangeset<I2> &) const [I = long long, I2 = long long])\n",
      "\n",
      "degenerate corner\n",
      "\n"
     ]
    },
    {
     "name": "stdout",
     "output_type": "stream",
     "text": [
      "79529 Problem with Mosaic polygon\n"
     ]
    },
    {
     "name": "stderr",
     "output_type": "stream",
     "text": [
      "Error encountered at /Users/runner/miniforge3/conda-bld/healpy_1697027108636/work/healpixsubmodule/src/cxx/Healpix_cxx/healpix_base.cc, line 1000\n",
      "(function void T_Healpix_Base<long long>::query_polygon_internal(const vector<pointing> &, int, rangeset<I2> &) const [I = long long, I2 = long long])\n",
      "\n",
      "degenerate corner\n",
      "\n"
     ]
    },
    {
     "name": "stdout",
     "output_type": "stream",
     "text": [
      "100581 Problem with Mosaic polygon\n"
     ]
    },
    {
     "name": "stderr",
     "output_type": "stream",
     "text": [
      "Error encountered at /Users/runner/miniforge3/conda-bld/healpy_1697027108636/work/healpixsubmodule/src/cxx/Healpix_cxx/healpix_base.cc, line 1000\n",
      "(function void T_Healpix_Base<long long>::query_polygon_internal(const vector<pointing> &, int, rangeset<I2> &) const [I = long long, I2 = long long])\n",
      "\n",
      "degenerate corner\n",
      "\n",
      "Error encountered at /Users/runner/miniforge3/conda-bld/healpy_1697027108636/work/healpixsubmodule/src/cxx/Healpix_cxx/healpix_base.cc, line 1000\n",
      "(function void T_Healpix_Base<long long>::query_polygon_internal(const vector<pointing> &, int, rangeset<I2> &) const [I = long long, I2 = long long])\n",
      "\n",
      "degenerate corner\n",
      "\n"
     ]
    },
    {
     "name": "stdout",
     "output_type": "stream",
     "text": [
      "103111 Problem with Mosaic polygon\n",
      "103622 Problem with Mosaic polygon\n"
     ]
    },
    {
     "name": "stderr",
     "output_type": "stream",
     "text": [
      "Error encountered at /Users/runner/miniforge3/conda-bld/healpy_1697027108636/work/healpixsubmodule/src/cxx/Healpix_cxx/healpix_base.cc, line 1000\n",
      "(function void T_Healpix_Base<long long>::query_polygon_internal(const vector<pointing> &, int, rangeset<I2> &) const [I = long long, I2 = long long])\n",
      "\n",
      "degenerate corner\n",
      "\n",
      "Error encountered at /Users/runner/miniforge3/conda-bld/healpy_1697027108636/work/healpixsubmodule/src/cxx/Healpix_cxx/healpix_base.cc, line 1000\n",
      "(function void T_Healpix_Base<long long>::query_polygon_internal(const vector<pointing> &, int, rangeset<I2> &) const [I = long long, I2 = long long])\n",
      "\n",
      "degenerate corner\n",
      "\n"
     ]
    },
    {
     "name": "stdout",
     "output_type": "stream",
     "text": [
      "103995 Problem with Mosaic polygon\n",
      "104405 Problem with Mosaic polygon\n"
     ]
    },
    {
     "name": "stderr",
     "output_type": "stream",
     "text": [
      "Error encountered at /Users/runner/miniforge3/conda-bld/healpy_1697027108636/work/healpixsubmodule/src/cxx/Healpix_cxx/healpix_base.cc, line 1000\n",
      "(function void T_Healpix_Base<long long>::query_polygon_internal(const vector<pointing> &, int, rangeset<I2> &) const [I = long long, I2 = long long])\n",
      "\n",
      "degenerate corner\n",
      "\n"
     ]
    },
    {
     "name": "stdout",
     "output_type": "stream",
     "text": [
      "105213 Problem with Mosaic polygon\n"
     ]
    },
    {
     "name": "stderr",
     "output_type": "stream",
     "text": [
      "Error encountered at /Users/runner/miniforge3/conda-bld/healpy_1697027108636/work/healpixsubmodule/src/cxx/Healpix_cxx/healpix_base.cc, line 1000\n",
      "(function void T_Healpix_Base<long long>::query_polygon_internal(const vector<pointing> &, int, rangeset<I2> &) const [I = long long, I2 = long long])\n",
      "\n",
      "degenerate corner\n",
      "\n"
     ]
    },
    {
     "name": "stdout",
     "output_type": "stream",
     "text": [
      "105975 Problem with Mosaic polygon\n"
     ]
    },
    {
     "name": "stderr",
     "output_type": "stream",
     "text": [
      "Error encountered at /Users/runner/miniforge3/conda-bld/healpy_1697027108636/work/healpixsubmodule/src/cxx/Healpix_cxx/healpix_base.cc, line 1000\n",
      "(function void T_Healpix_Base<long long>::query_polygon_internal(const vector<pointing> &, int, rangeset<I2> &) const [I = long long, I2 = long long])\n",
      "\n",
      "degenerate corner\n",
      "\n"
     ]
    },
    {
     "name": "stdout",
     "output_type": "stream",
     "text": [
      "112597 Problem with Mosaic polygon\n"
     ]
    },
    {
     "name": "stderr",
     "output_type": "stream",
     "text": [
      "Error encountered at /Users/runner/miniforge3/conda-bld/healpy_1697027108636/work/healpixsubmodule/src/cxx/Healpix_cxx/healpix_base.cc, line 1000\n",
      "(function void T_Healpix_Base<long long>::query_polygon_internal(const vector<pointing> &, int, rangeset<I2> &) const [I = long long, I2 = long long])\n",
      "\n",
      "degenerate corner\n",
      "\n",
      "Error encountered at /Users/runner/miniforge3/conda-bld/healpy_1697027108636/work/healpixsubmodule/src/cxx/Healpix_cxx/healpix_base.cc, line 1000\n",
      "(function void T_Healpix_Base<long long>::query_polygon_internal(const vector<pointing> &, int, rangeset<I2> &) const [I = long long, I2 = long long])\n",
      "\n",
      "degenerate corner\n",
      "\n"
     ]
    },
    {
     "name": "stdout",
     "output_type": "stream",
     "text": [
      "117000 Problem with Mosaic polygon\n",
      "117380 Problem with Mosaic polygon\n"
     ]
    },
    {
     "name": "stderr",
     "output_type": "stream",
     "text": [
      "Error encountered at /Users/runner/miniforge3/conda-bld/healpy_1697027108636/work/healpixsubmodule/src/cxx/Healpix_cxx/healpix_base.cc, line 1000\n",
      "(function void T_Healpix_Base<long long>::query_polygon_internal(const vector<pointing> &, int, rangeset<I2> &) const [I = long long, I2 = long long])\n",
      "\n",
      "degenerate corner\n",
      "\n"
     ]
    },
    {
     "name": "stdout",
     "output_type": "stream",
     "text": [
      "123025 Problem with Mosaic polygon\n"
     ]
    },
    {
     "name": "stderr",
     "output_type": "stream",
     "text": [
      "Error encountered at /Users/runner/miniforge3/conda-bld/healpy_1697027108636/work/healpixsubmodule/src/cxx/Healpix_cxx/healpix_base.cc, line 1000\n",
      "(function void T_Healpix_Base<long long>::query_polygon_internal(const vector<pointing> &, int, rangeset<I2> &) const [I = long long, I2 = long long])\n",
      "\n",
      "degenerate corner\n",
      "\n"
     ]
    },
    {
     "name": "stdout",
     "output_type": "stream",
     "text": [
      "126454 Problem with Mosaic polygon\n"
     ]
    },
    {
     "name": "stderr",
     "output_type": "stream",
     "text": [
      "Error encountered at /Users/runner/miniforge3/conda-bld/healpy_1697027108636/work/healpixsubmodule/src/cxx/Healpix_cxx/healpix_base.cc, line 1000\n",
      "(function void T_Healpix_Base<long long>::query_polygon_internal(const vector<pointing> &, int, rangeset<I2> &) const [I = long long, I2 = long long])\n",
      "\n",
      "degenerate corner\n",
      "\n"
     ]
    },
    {
     "name": "stdout",
     "output_type": "stream",
     "text": [
      "128551 Problem with Mosaic polygon\n"
     ]
    },
    {
     "name": "stderr",
     "output_type": "stream",
     "text": [
      "Error encountered at /Users/runner/miniforge3/conda-bld/healpy_1697027108636/work/healpixsubmodule/src/cxx/Healpix_cxx/healpix_base.cc, line 1000\n",
      "(function void T_Healpix_Base<long long>::query_polygon_internal(const vector<pointing> &, int, rangeset<I2> &) const [I = long long, I2 = long long])\n",
      "\n",
      "degenerate corner\n",
      "\n"
     ]
    },
    {
     "name": "stdout",
     "output_type": "stream",
     "text": [
      "134768 Problem with Mosaic polygon\n"
     ]
    },
    {
     "name": "stderr",
     "output_type": "stream",
     "text": [
      "Error encountered at /Users/runner/miniforge3/conda-bld/healpy_1697027108636/work/healpixsubmodule/src/cxx/Healpix_cxx/healpix_base.cc, line 1000\n",
      "(function void T_Healpix_Base<long long>::query_polygon_internal(const vector<pointing> &, int, rangeset<I2> &) const [I = long long, I2 = long long])\n",
      "\n",
      "degenerate corner\n",
      "\n",
      "Error encountered at /Users/runner/miniforge3/conda-bld/healpy_1697027108636/work/healpixsubmodule/src/cxx/Healpix_cxx/healpix_base.cc, line 1000\n",
      "(function void T_Healpix_Base<long long>::query_polygon_internal(const vector<pointing> &, int, rangeset<I2> &) const [I = long long, I2 = long long])\n",
      "\n",
      "degenerate corner\n",
      "\n",
      "Error encountered at /Users/runner/miniforge3/conda-bld/healpy_1697027108636/work/healpixsubmodule/src/cxx/Healpix_cxx/healpix_base.cc, line 1000\n",
      "(function void T_Healpix_Base<long long>::query_polygon_internal(const vector<pointing> &, int, rangeset<I2> &) const [I = long long, I2 = long long])\n",
      "\n",
      "degenerate corner\n",
      "\n"
     ]
    },
    {
     "name": "stdout",
     "output_type": "stream",
     "text": [
      "136096 Problem with Mosaic polygon\n",
      "136406 Problem with Mosaic polygon\n",
      "136488 Problem with Mosaic polygon\n"
     ]
    },
    {
     "name": "stderr",
     "output_type": "stream",
     "text": [
      "Error encountered at /Users/runner/miniforge3/conda-bld/healpy_1697027108636/work/healpixsubmodule/src/cxx/Healpix_cxx/healpix_base.cc, line 1000\n",
      "(function void T_Healpix_Base<long long>::query_polygon_internal(const vector<pointing> &, int, rangeset<I2> &) const [I = long long, I2 = long long])\n",
      "\n",
      "degenerate corner\n",
      "\n"
     ]
    },
    {
     "name": "stdout",
     "output_type": "stream",
     "text": [
      "137233 Problem with Mosaic polygon\n"
     ]
    },
    {
     "name": "stderr",
     "output_type": "stream",
     "text": [
      "Error encountered at /Users/runner/miniforge3/conda-bld/healpy_1697027108636/work/healpixsubmodule/src/cxx/Healpix_cxx/healpix_base.cc, line 1000\n",
      "(function void T_Healpix_Base<long long>::query_polygon_internal(const vector<pointing> &, int, rangeset<I2> &) const [I = long long, I2 = long long])\n",
      "\n",
      "degenerate corner\n",
      "\n"
     ]
    },
    {
     "name": "stdout",
     "output_type": "stream",
     "text": [
      "138298 Problem with Mosaic polygon\n"
     ]
    },
    {
     "name": "stderr",
     "output_type": "stream",
     "text": [
      "Error encountered at /Users/runner/miniforge3/conda-bld/healpy_1697027108636/work/healpixsubmodule/src/cxx/Healpix_cxx/healpix_base.cc, line 1000\n",
      "(function void T_Healpix_Base<long long>::query_polygon_internal(const vector<pointing> &, int, rangeset<I2> &) const [I = long long, I2 = long long])\n",
      "\n",
      "degenerate corner\n",
      "\n"
     ]
    },
    {
     "name": "stdout",
     "output_type": "stream",
     "text": [
      "138848 Problem with Mosaic polygon\n"
     ]
    },
    {
     "name": "stderr",
     "output_type": "stream",
     "text": [
      "Error encountered at /Users/runner/miniforge3/conda-bld/healpy_1697027108636/work/healpixsubmodule/src/cxx/Healpix_cxx/healpix_base.cc, line 1000\n",
      "(function void T_Healpix_Base<long long>::query_polygon_internal(const vector<pointing> &, int, rangeset<I2> &) const [I = long long, I2 = long long])\n",
      "\n",
      "degenerate corner\n",
      "\n"
     ]
    },
    {
     "name": "stdout",
     "output_type": "stream",
     "text": [
      "141461 Problem with Mosaic polygon\n",
      "142003 Problem with Mosaic polygon\n"
     ]
    },
    {
     "name": "stderr",
     "output_type": "stream",
     "text": [
      "Error encountered at /Users/runner/miniforge3/conda-bld/healpy_1697027108636/work/healpixsubmodule/src/cxx/Healpix_cxx/healpix_base.cc, line 1000\n",
      "(function void T_Healpix_Base<long long>::query_polygon_internal(const vector<pointing> &, int, rangeset<I2> &) const [I = long long, I2 = long long])\n",
      "\n",
      "degenerate corner\n",
      "\n",
      "Error encountered at /Users/runner/miniforge3/conda-bld/healpy_1697027108636/work/healpixsubmodule/src/cxx/Healpix_cxx/healpix_base.cc, line 1000\n",
      "(function void T_Healpix_Base<long long>::query_polygon_internal(const vector<pointing> &, int, rangeset<I2> &) const [I = long long, I2 = long long])\n",
      "\n",
      "degenerate corner\n",
      "\n",
      "Error encountered at /Users/runner/miniforge3/conda-bld/healpy_1697027108636/work/healpixsubmodule/src/cxx/Healpix_cxx/healpix_base.cc, line 1000\n",
      "(function void T_Healpix_Base<long long>::query_polygon_internal(const vector<pointing> &, int, rangeset<I2> &) const [I = long long, I2 = long long])\n",
      "\n",
      "degenerate corner\n",
      "\n"
     ]
    },
    {
     "name": "stdout",
     "output_type": "stream",
     "text": [
      "143048 Problem with Mosaic polygon\n",
      "143126 Problem with Mosaic polygon\n"
     ]
    },
    {
     "name": "stderr",
     "output_type": "stream",
     "text": [
      "Error encountered at /Users/runner/miniforge3/conda-bld/healpy_1697027108636/work/healpixsubmodule/src/cxx/Healpix_cxx/healpix_base.cc, line 1000\n",
      "(function void T_Healpix_Base<long long>::query_polygon_internal(const vector<pointing> &, int, rangeset<I2> &) const [I = long long, I2 = long long])\n",
      "\n",
      "degenerate corner\n",
      "\n"
     ]
    },
    {
     "name": "stdout",
     "output_type": "stream",
     "text": [
      "143850 Problem with Mosaic polygon\n"
     ]
    },
    {
     "name": "stderr",
     "output_type": "stream",
     "text": [
      "Error encountered at /Users/runner/miniforge3/conda-bld/healpy_1697027108636/work/healpixsubmodule/src/cxx/Healpix_cxx/healpix_base.cc, line 1000\n",
      "(function void T_Healpix_Base<long long>::query_polygon_internal(const vector<pointing> &, int, rangeset<I2> &) const [I = long long, I2 = long long])\n",
      "\n",
      "degenerate corner\n",
      "\n",
      "Error encountered at /Users/runner/miniforge3/conda-bld/healpy_1697027108636/work/healpixsubmodule/src/cxx/Healpix_cxx/healpix_base.cc, line 1000\n",
      "(function void T_Healpix_Base<long long>::query_polygon_internal(const vector<pointing> &, int, rangeset<I2> &) const [I = long long, I2 = long long])\n",
      "\n",
      "degenerate corner\n",
      "\n"
     ]
    },
    {
     "name": "stdout",
     "output_type": "stream",
     "text": [
      "144821 Problem with Mosaic polygon\n",
      "145082 Problem with Mosaic polygon\n"
     ]
    },
    {
     "name": "stderr",
     "output_type": "stream",
     "text": [
      "Error encountered at /Users/runner/miniforge3/conda-bld/healpy_1697027108636/work/healpixsubmodule/src/cxx/Healpix_cxx/healpix_base.cc, line 1000\n",
      "(function void T_Healpix_Base<long long>::query_polygon_internal(const vector<pointing> &, int, rangeset<I2> &) const [I = long long, I2 = long long])\n",
      "\n",
      "degenerate corner\n",
      "\n"
     ]
    },
    {
     "name": "stdout",
     "output_type": "stream",
     "text": [
      "145380 Problem with Mosaic polygon\n"
     ]
    },
    {
     "name": "stderr",
     "output_type": "stream",
     "text": [
      "Error encountered at /Users/runner/miniforge3/conda-bld/healpy_1697027108636/work/healpixsubmodule/src/cxx/Healpix_cxx/healpix_base.cc, line 1000\n",
      "(function void T_Healpix_Base<long long>::query_polygon_internal(const vector<pointing> &, int, rangeset<I2> &) const [I = long long, I2 = long long])\n",
      "\n",
      "degenerate corner\n",
      "\n",
      "Error encountered at /Users/runner/miniforge3/conda-bld/healpy_1697027108636/work/healpixsubmodule/src/cxx/Healpix_cxx/healpix_base.cc, line 1000\n",
      "(function void T_Healpix_Base<long long>::query_polygon_internal(const vector<pointing> &, int, rangeset<I2> &) const [I = long long, I2 = long long])\n",
      "\n",
      "degenerate corner\n",
      "\n"
     ]
    },
    {
     "name": "stdout",
     "output_type": "stream",
     "text": [
      "147517 Problem with Mosaic polygon\n",
      "148067 Problem with Mosaic polygon\n"
     ]
    },
    {
     "name": "stderr",
     "output_type": "stream",
     "text": [
      "Error encountered at /Users/runner/miniforge3/conda-bld/healpy_1697027108636/work/healpixsubmodule/src/cxx/Healpix_cxx/healpix_base.cc, line 1000\n",
      "(function void T_Healpix_Base<long long>::query_polygon_internal(const vector<pointing> &, int, rangeset<I2> &) const [I = long long, I2 = long long])\n",
      "\n",
      "degenerate corner\n",
      "\n",
      "Error encountered at /Users/runner/miniforge3/conda-bld/healpy_1697027108636/work/healpixsubmodule/src/cxx/Healpix_cxx/healpix_base.cc, line 1000\n",
      "(function void T_Healpix_Base<long long>::query_polygon_internal(const vector<pointing> &, int, rangeset<I2> &) const [I = long long, I2 = long long])\n",
      "\n",
      "degenerate corner\n",
      "\n"
     ]
    },
    {
     "name": "stdout",
     "output_type": "stream",
     "text": [
      "148934 Problem with Mosaic polygon\n",
      "149302 Problem with Mosaic polygon\n"
     ]
    },
    {
     "name": "stderr",
     "output_type": "stream",
     "text": [
      "Error encountered at /Users/runner/miniforge3/conda-bld/healpy_1697027108636/work/healpixsubmodule/src/cxx/Healpix_cxx/healpix_base.cc, line 1000\n",
      "(function void T_Healpix_Base<long long>::query_polygon_internal(const vector<pointing> &, int, rangeset<I2> &) const [I = long long, I2 = long long])\n",
      "\n",
      "degenerate corner\n",
      "\n"
     ]
    },
    {
     "name": "stdout",
     "output_type": "stream",
     "text": [
      "149658 Problem with Mosaic polygon\n"
     ]
    },
    {
     "name": "stderr",
     "output_type": "stream",
     "text": [
      "Error encountered at /Users/runner/miniforge3/conda-bld/healpy_1697027108636/work/healpixsubmodule/src/cxx/Healpix_cxx/healpix_base.cc, line 1000\n",
      "(function void T_Healpix_Base<long long>::query_polygon_internal(const vector<pointing> &, int, rangeset<I2> &) const [I = long long, I2 = long long])\n",
      "\n",
      "degenerate corner\n",
      "\n",
      "Error encountered at /Users/runner/miniforge3/conda-bld/healpy_1697027108636/work/healpixsubmodule/src/cxx/Healpix_cxx/healpix_base.cc, line 1000\n",
      "(function void T_Healpix_Base<long long>::query_polygon_internal(const vector<pointing> &, int, rangeset<I2> &) const [I = long long, I2 = long long])\n",
      "\n",
      "degenerate corner\n",
      "\n"
     ]
    },
    {
     "name": "stdout",
     "output_type": "stream",
     "text": [
      "150577 Problem with Mosaic polygon\n",
      "150588 Problem with Mosaic polygon\n"
     ]
    },
    {
     "name": "stderr",
     "output_type": "stream",
     "text": [
      "Error encountered at /Users/runner/miniforge3/conda-bld/healpy_1697027108636/work/healpixsubmodule/src/cxx/Healpix_cxx/healpix_base.cc, line 1000\n",
      "(function void T_Healpix_Base<long long>::query_polygon_internal(const vector<pointing> &, int, rangeset<I2> &) const [I = long long, I2 = long long])\n",
      "\n",
      "degenerate corner\n",
      "\n"
     ]
    },
    {
     "name": "stdout",
     "output_type": "stream",
     "text": [
      "151557 Problem with Mosaic polygon\n"
     ]
    },
    {
     "name": "stderr",
     "output_type": "stream",
     "text": [
      "Error encountered at /Users/runner/miniforge3/conda-bld/healpy_1697027108636/work/healpixsubmodule/src/cxx/Healpix_cxx/healpix_base.cc, line 1000\n",
      "(function void T_Healpix_Base<long long>::query_polygon_internal(const vector<pointing> &, int, rangeset<I2> &) const [I = long long, I2 = long long])\n",
      "\n",
      "degenerate corner\n",
      "\n"
     ]
    },
    {
     "name": "stdout",
     "output_type": "stream",
     "text": [
      "153976 Problem with Mosaic polygon\n"
     ]
    },
    {
     "name": "stderr",
     "output_type": "stream",
     "text": [
      "Error encountered at /Users/runner/miniforge3/conda-bld/healpy_1697027108636/work/healpixsubmodule/src/cxx/Healpix_cxx/healpix_base.cc, line 1000\n",
      "(function void T_Healpix_Base<long long>::query_polygon_internal(const vector<pointing> &, int, rangeset<I2> &) const [I = long long, I2 = long long])\n",
      "\n",
      "degenerate corner\n",
      "\n",
      "Error encountered at /Users/runner/miniforge3/conda-bld/healpy_1697027108636/work/healpixsubmodule/src/cxx/Healpix_cxx/healpix_base.cc, line 1000\n",
      "(function void T_Healpix_Base<long long>::query_polygon_internal(const vector<pointing> &, int, rangeset<I2> &) const [I = long long, I2 = long long])\n",
      "\n",
      "degenerate corner\n",
      "\n"
     ]
    },
    {
     "name": "stdout",
     "output_type": "stream",
     "text": [
      "156097 Problem with Mosaic polygon\n",
      "156520 Problem with Mosaic polygon\n"
     ]
    },
    {
     "name": "stderr",
     "output_type": "stream",
     "text": [
      "Error encountered at /Users/runner/miniforge3/conda-bld/healpy_1697027108636/work/healpixsubmodule/src/cxx/Healpix_cxx/healpix_base.cc, line 1000\n",
      "(function void T_Healpix_Base<long long>::query_polygon_internal(const vector<pointing> &, int, rangeset<I2> &) const [I = long long, I2 = long long])\n",
      "\n",
      "degenerate corner\n",
      "\n"
     ]
    },
    {
     "name": "stdout",
     "output_type": "stream",
     "text": [
      "156628 Problem with Mosaic polygon\n"
     ]
    },
    {
     "name": "stderr",
     "output_type": "stream",
     "text": [
      "Error encountered at /Users/runner/miniforge3/conda-bld/healpy_1697027108636/work/healpixsubmodule/src/cxx/Healpix_cxx/healpix_base.cc, line 1000\n",
      "(function void T_Healpix_Base<long long>::query_polygon_internal(const vector<pointing> &, int, rangeset<I2> &) const [I = long long, I2 = long long])\n",
      "\n",
      "degenerate corner\n",
      "\n"
     ]
    },
    {
     "name": "stdout",
     "output_type": "stream",
     "text": [
      "162054 Problem with Mosaic polygon\n"
     ]
    },
    {
     "name": "stderr",
     "output_type": "stream",
     "text": [
      "Error encountered at /Users/runner/miniforge3/conda-bld/healpy_1697027108636/work/healpixsubmodule/src/cxx/Healpix_cxx/healpix_base.cc, line 1000\n",
      "(function void T_Healpix_Base<long long>::query_polygon_internal(const vector<pointing> &, int, rangeset<I2> &) const [I = long long, I2 = long long])\n",
      "\n",
      "degenerate corner\n",
      "\n",
      "Error encountered at /Users/runner/miniforge3/conda-bld/healpy_1697027108636/work/healpixsubmodule/src/cxx/Healpix_cxx/healpix_base.cc, line 1000\n",
      "(function void T_Healpix_Base<long long>::query_polygon_internal(const vector<pointing> &, int, rangeset<I2> &) const [I = long long, I2 = long long])\n",
      "\n",
      "degenerate corner\n",
      "\n"
     ]
    },
    {
     "name": "stdout",
     "output_type": "stream",
     "text": [
      "167231 Problem with Mosaic polygon\n",
      "167640 Problem with Mosaic polygon\n"
     ]
    },
    {
     "name": "stderr",
     "output_type": "stream",
     "text": [
      "Error encountered at /Users/runner/miniforge3/conda-bld/healpy_1697027108636/work/healpixsubmodule/src/cxx/Healpix_cxx/healpix_base.cc, line 1000\n",
      "(function void T_Healpix_Base<long long>::query_polygon_internal(const vector<pointing> &, int, rangeset<I2> &) const [I = long long, I2 = long long])\n",
      "\n",
      "degenerate corner\n",
      "\n"
     ]
    },
    {
     "name": "stdout",
     "output_type": "stream",
     "text": [
      "171369 Problem with Mosaic polygon\n",
      "45418  Bok exposures\n"
     ]
    },
    {
     "name": "stderr",
     "output_type": "stream",
     "text": [
      "setting the output map dtype to [dtype('float64')]\n"
     ]
    },
    {
     "data": {
      "text/plain": [
       "CompletedProcess(args=['/opt/anaconda3/envs/clean/bin/python', './mkarchivequery.py', '-o', 'Oct2023AA.fits', '-s', \"[['instrument', 'decam', '90prime', 'mosaic', 'mosaic3', 'mosaic_1', 'mosaic_1_1', 'mosaic_2'], ['prod_type', 'image'], ['proc_type', 'raw'], ['obs_type', 'object'], ['exposure', 30.0, 36000.0], ['caldat', '1900-01-01', '2023-10-01']]\"], returncode=0)"
      ]
     },
     "execution_count": 2,
     "metadata": {},
     "output_type": "execute_result"
    }
   ],
   "source": [
    "search = [[\"instrument\", \"decam\", \"90prime\", \"mosaic\", \"mosaic3\", \"mosaic_1\", \"mosaic_1_1\", \"mosaic_2\"], \n",
    "          [\"prod_type\",\"image\"],\n",
    "          [\"proc_type\",\"raw\"],\n",
    "          [\"obs_type\",\"object\"],\n",
    "          [\"exposure\",30.,36000.],\n",
    "          [\"caldat\",\"1900-01-01\",\"2023-10-01\"]]\n",
    "outroot = 'Oct2023AA'\n",
    "subprocess.run(['/opt/anaconda3/envs/clean/bin/python','./mkarchivequery.py','-o',outroot+'.fits','-s',str(search)])"
   ]
  },
  {
   "cell_type": "markdown",
   "id": "d4694c28-206e-41c4-bade-f73df677deb5",
   "metadata": {},
   "source": [
    "### Calculate sky area at cumulative depths of 625s, 2500s, and 10000s"
   ]
  },
  {
   "cell_type": "code",
   "execution_count": 3,
   "id": "f0b2a4d4-c1e7-4f4d-a225-c976d1724917",
   "metadata": {},
   "outputs": [],
   "source": [
    "map = hp.read_map(outroot+'.fits')\n",
    "expTable = Table.read(outroot+'_data.fits')\n",
    "indTable = Table.read(outroot+'_index.fits')"
   ]
  },
  {
   "cell_type": "code",
   "execution_count": 4,
   "id": "7fc75aa5-3cb6-4656-9ba5-b2f1512255d6",
   "metadata": {},
   "outputs": [],
   "source": [
    "exp10000 = (map >= 10000.)\n",
    "exp2500 = (map >= 2500.)\n",
    "exp625 = (map >= 625.)"
   ]
  },
  {
   "cell_type": "code",
   "execution_count": 5,
   "id": "27ddf7b7-5b5a-4295-bf56-e740b5b11cf9",
   "metadata": {},
   "outputs": [],
   "source": [
    "fullsky = (4*np.pi*u.sr).to(u.deg**2)\n",
    "area10000 = len(map[exp10000])/len(map)*fullsky\n",
    "area2500 = len(map[exp2500])/len(map)*fullsky\n",
    "area625 = len(map[exp625])/len(map)*fullsky"
   ]
  },
  {
   "cell_type": "code",
   "execution_count": 6,
   "id": "13501f19-f0dc-409f-93e7-dc8f9219d284",
   "metadata": {},
   "outputs": [
    {
     "name": "stdout",
     "output_type": "stream",
     "text": [
      "35267 deg2  to 625s\n",
      "22747 deg2  to 2500s\n",
      "5156 deg2  to 10000s\n"
     ]
    }
   ],
   "source": [
    "print(f\"{area625:.0f}\",\" to 625s\")\n",
    "print(f\"{area2500:.0f}\",\" to 2500s\")\n",
    "print(f\"{area10000:.0f}\",\" to 10000s\")"
   ]
  },
  {
   "cell_type": "markdown",
   "id": "2aabe47e-574e-4413-a1a3-77bffbb1efc1",
   "metadata": {},
   "source": [
    "### Calculate prior years"
   ]
  },
  {
   "cell_type": "code",
   "execution_count": 7,
   "id": "8f185a43-6bb2-4138-bac0-26b59b29d38c",
   "metadata": {},
   "outputs": [],
   "source": [
    "from astropy.time import Time\n",
    "from datetime import datetime"
   ]
  },
  {
   "cell_type": "code",
   "execution_count": 8,
   "id": "4814c662-212b-4f13-9eb6-7d078e8cdc5e",
   "metadata": {},
   "outputs": [],
   "source": [
    "fy20 = Time(datetime(2020,10,1,0,0,0))\n",
    "fy21 = Time(datetime(2021,10,1,0,0,0))\n",
    "fy22 = Time(datetime(2022,10,1,0,0,0))"
   ]
  },
  {
   "cell_type": "code",
   "execution_count": 9,
   "id": "6d87c721-7368-486c-91e4-ecc315ef79d1",
   "metadata": {},
   "outputs": [],
   "source": [
    "dates = expTable['dateobs_center']"
   ]
  },
  {
   "cell_type": "code",
   "execution_count": 10,
   "id": "62e76661-93b5-452c-8157-4c99c847e0ea",
   "metadata": {},
   "outputs": [],
   "source": [
    "mjddo = np.zeros(len(dates))"
   ]
  },
  {
   "cell_type": "code",
   "execution_count": 11,
   "id": "d7c130e0-a059-4cab-9b70-f6a02975761d",
   "metadata": {},
   "outputs": [],
   "source": [
    "for dd,i in zip(dates,range(len(dates))):\n",
    "    mjddo[i] = Time(dd,format='isot').mjd"
   ]
  },
  {
   "cell_type": "code",
   "execution_count": 12,
   "id": "ef223c17-e31b-4657-ab29-14ae1ed94d41",
   "metadata": {},
   "outputs": [],
   "source": [
    "els = np.arange(len(expTable))"
   ]
  },
  {
   "cell_type": "code",
   "execution_count": 13,
   "id": "e45bb80f-d3b8-4614-a2eb-72405d0556cc",
   "metadata": {},
   "outputs": [],
   "source": [
    "elsfy20 = els[mjddo<fy20.mjd]\n",
    "elsfy21 = els[mjddo<fy21.mjd]\n",
    "elsfy22 = els[mjddo<fy22.mjd]\n",
    "mapfy20 = np.zeros(len(map))\n",
    "mapfy21 = np.zeros(len(map))\n",
    "mapfy22 = np.zeros(len(map))"
   ]
  },
  {
   "cell_type": "code",
   "execution_count": 14,
   "id": "4fb95f9f-541c-4641-8222-2119c756b843",
   "metadata": {},
   "outputs": [],
   "source": [
    "for el in elsfy20:\n",
    "    mels=indTable[el]['ind'][0:indTable[el]['np']]\n",
    "    mapfy20[mels]=mapfy20[mels]+expTable[el]['exposure']"
   ]
  },
  {
   "cell_type": "code",
   "execution_count": 15,
   "id": "c0e29302-4814-4f70-88c1-1cf1ab87d121",
   "metadata": {},
   "outputs": [],
   "source": [
    "for el in elsfy21:\n",
    "    mels=indTable[el]['ind'][0:indTable[el]['np']]\n",
    "    mapfy21[mels]=mapfy21[mels]+expTable[el]['exposure']"
   ]
  },
  {
   "cell_type": "code",
   "execution_count": 16,
   "id": "b056e64f-e87a-4104-a3ef-2c738cfb1a1c",
   "metadata": {},
   "outputs": [],
   "source": [
    "for el in elsfy22:\n",
    "    mels=indTable[el]['ind'][0:indTable[el]['np']]\n",
    "    mapfy22[mels]=mapfy22[mels]+expTable[el]['exposure']"
   ]
  },
  {
   "cell_type": "code",
   "execution_count": 17,
   "id": "570c5a8a-ee92-4f94-a682-d1ca51ef1f14",
   "metadata": {},
   "outputs": [],
   "source": [
    "exp10000fy20 = mapfy20 >= 10000.\n",
    "exp2500fy20 = mapfy20 >= 2500.\n",
    "exp625fy20 = mapfy20 >= 625\n",
    "exp10000fy21 = mapfy21 >= 10000.\n",
    "exp2500fy21 = mapfy21 >= 2500.\n",
    "exp625fy21 = mapfy21 >= 625\n",
    "exp10000fy22 = mapfy22 >= 10000.\n",
    "exp2500fy22 = mapfy22 >= 2500.\n",
    "exp625fy22 = mapfy22 >= 625"
   ]
  },
  {
   "cell_type": "code",
   "execution_count": 18,
   "id": "c47cc59c-7ad6-4ca7-a9c6-38cdfe319770",
   "metadata": {},
   "outputs": [],
   "source": [
    "area10000fy20 = len(mapfy20[exp10000fy20])/len(mapfy20)*fullsky\n",
    "area2500fy20 = len(mapfy20[exp2500fy20])/len(mapfy20)*fullsky\n",
    "area625fy20 = len(mapfy20[exp625fy20])/len(mapfy20)*fullsky"
   ]
  },
  {
   "cell_type": "code",
   "execution_count": 19,
   "id": "090dd6a5-b10b-4a85-8b04-081291f4feb3",
   "metadata": {},
   "outputs": [],
   "source": [
    "area10000fy21 = len(mapfy21[exp10000fy21])/len(mapfy21)*fullsky\n",
    "area2500fy21 = len(mapfy21[exp2500fy21])/len(mapfy21)*fullsky\n",
    "area625fy21 = len(mapfy21[exp625fy21])/len(mapfy21)*fullsky"
   ]
  },
  {
   "cell_type": "code",
   "execution_count": 20,
   "id": "9bff46b1-e044-4291-9230-f7c832718724",
   "metadata": {},
   "outputs": [],
   "source": [
    "area10000fy22 = len(mapfy22[exp10000fy22])/len(mapfy22)*fullsky\n",
    "area2500fy22 = len(mapfy22[exp2500fy22])/len(mapfy22)*fullsky\n",
    "area625fy22 = len(mapfy22[exp625fy22])/len(mapfy22)*fullsky"
   ]
  },
  {
   "cell_type": "code",
   "execution_count": 21,
   "id": "b2d69b15-667f-4402-a65f-728d6dbbca51",
   "metadata": {},
   "outputs": [
    {
     "name": "stdout",
     "output_type": "stream",
     "text": [
      "FY20\n",
      "34270 deg2  to 625s\n",
      "18405 deg2  to 2500s\n",
      "3116 deg2  to 10000s\n"
     ]
    }
   ],
   "source": [
    "print('FY20')\n",
    "print(f\"{area625fy20:.0f}\",\" to 625s\")\n",
    "print(f\"{area2500fy20:.0f}\",\" to 2500s\")\n",
    "print(f\"{area10000fy20:.0f}\",\" to 10000s\")"
   ]
  },
  {
   "cell_type": "code",
   "execution_count": 22,
   "id": "9f48c4a4-d3af-479a-81db-e4377678d6dd",
   "metadata": {},
   "outputs": [
    {
     "name": "stdout",
     "output_type": "stream",
     "text": [
      "FY21\n",
      "34796 deg2  to 625s\n",
      "20608 deg2  to 2500s\n",
      "3668 deg2  to 10000s\n"
     ]
    }
   ],
   "source": [
    "print('FY21')\n",
    "print(f\"{area625fy21:.0f}\",\" to 625s\")\n",
    "print(f\"{area2500fy21:.0f}\",\" to 2500s\")\n",
    "print(f\"{area10000fy21:.0f}\",\" to 10000s\")"
   ]
  },
  {
   "cell_type": "code",
   "execution_count": 23,
   "id": "dc40301e-0383-4c78-99fc-77b291ee8bf9",
   "metadata": {},
   "outputs": [
    {
     "name": "stdout",
     "output_type": "stream",
     "text": [
      "FY22\n",
      "34916 deg2  to 625s\n",
      "21494 deg2  to 2500s\n",
      "4348 deg2  to 10000s\n"
     ]
    }
   ],
   "source": [
    "print('FY22')\n",
    "print(f\"{area625fy22:.0f}\",\" to 625s\")\n",
    "print(f\"{area2500fy22:.0f}\",\" to 2500s\")\n",
    "print(f\"{area10000fy22:.0f}\",\" to 10000s\")"
   ]
  },
  {
   "cell_type": "markdown",
   "id": "d4415e55-1c15-4c42-b7c8-ee8c44ff3c27",
   "metadata": {},
   "source": [
    "### Check against Legacy Archive"
   ]
  },
  {
   "cell_type": "code",
   "execution_count": 24,
   "id": "efa8b4e8-bbea-4cdf-9492-68afe9c46d6b",
   "metadata": {},
   "outputs": [],
   "source": [
    "maplsa = hp.read_map('Oct2023_LSA.fits')"
   ]
  },
  {
   "cell_type": "code",
   "execution_count": 25,
   "id": "a4c7da4d-b1cc-4b7e-bc18-119d4c614dce",
   "metadata": {},
   "outputs": [],
   "source": [
    "exp10000lsa = maplsa >= 10000.\n",
    "exp2500lsa = maplsa >= 2500.\n",
    "exp625lsa = maplsa >= 625"
   ]
  },
  {
   "cell_type": "code",
   "execution_count": 26,
   "id": "01fe6ef0-db5e-44c1-b672-beee91da7cc8",
   "metadata": {},
   "outputs": [],
   "source": [
    "area10000lsa = len(maplsa[exp10000lsa])/len(maplsa)*fullsky\n",
    "area2500lsa = len(maplsa[exp2500lsa])/len(maplsa)*fullsky\n",
    "area625lsa = len(maplsa[exp625lsa])/len(maplsa)*fullsky"
   ]
  },
  {
   "cell_type": "code",
   "execution_count": 27,
   "id": "2e171323-da67-420e-bacf-df7b126d0e47",
   "metadata": {},
   "outputs": [
    {
     "name": "stdout",
     "output_type": "stream",
     "text": [
      "34894 deg2  to 625s\n",
      "22205 deg2  to 2500s\n",
      "4891 deg2  to 10000s\n"
     ]
    }
   ],
   "source": [
    "print(f\"{area625lsa:.0f}\",\" to 625s\")\n",
    "print(f\"{area2500lsa:.0f}\",\" to 2500s\")\n",
    "print(f\"{area10000lsa:.0f}\",\" to 10000s\")"
   ]
  }
 ],
 "metadata": {
  "kernelspec": {
   "display_name": "clean",
   "language": "python",
   "name": "clean"
  },
  "language_info": {
   "codemirror_mode": {
    "name": "ipython",
    "version": 3
   },
   "file_extension": ".py",
   "mimetype": "text/x-python",
   "name": "python",
   "nbconvert_exporter": "python",
   "pygments_lexer": "ipython3",
   "version": "3.12.0"
  }
 },
 "nbformat": 4,
 "nbformat_minor": 5
}
